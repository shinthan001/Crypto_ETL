{
 "cells": [
  {
   "cell_type": "code",
   "execution_count": 6,
   "metadata": {},
   "outputs": [
    {
     "data": {
      "text/plain": [
       "False"
      ]
     },
     "execution_count": 6,
     "metadata": {},
     "output_type": "execute_result"
    }
   ],
   "source": [
    "import os\n",
    "import json\n",
    "import pandas as pd\n",
    "from dotenv import load_dotenv\n",
    "\n",
    "load_dotenv()"
   ]
  },
  {
   "cell_type": "code",
   "execution_count": 19,
   "metadata": {},
   "outputs": [],
   "source": [
    "def to_dataframe(base_dir, sub_dir, fname):\n",
    "    file_path = f'{base_dir}/{sub_dir}/{fname}.json'\n",
    "    try:\n",
    "        df = pd.read_json(file_path)\n",
    "    except FileNotFoundError as err:\n",
    "        raise (err)\n",
    "    return df\n",
    "\n",
    "def to_json(df:pd.DataFrame, tgt_dir, sub_dir, fname):\n",
    "    file_path = f'{tgt_dir}/{sub_dir}/{fname}.json'\n",
    "    os.makedirs(f'{tgt_dir}/{sub_dir}', exist_ok=True)\n",
    "    try:\n",
    "        df = pd.read_json(file_path, orient=True, lines=True)\n",
    "    except FileNotFoundError as err:\n",
    "        raise (err)\n",
    "    return df"
   ]
  },
  {
   "cell_type": "code",
   "execution_count": 21,
   "metadata": {},
   "outputs": [
    {
     "data": {
      "text/plain": [
       "Index(['id', 'symbol', 'name', 'image', 'current_price', 'market_cap',\n",
       "       'market_cap_rank', 'fully_diluted_valuation', 'total_volume',\n",
       "       'high_24h', 'low_24h', 'price_change_24h',\n",
       "       'price_change_percentage_24h', 'market_cap_change_24h',\n",
       "       'market_cap_change_percentage_24h', 'circulating_supply',\n",
       "       'total_supply', 'max_supply', 'ath', 'ath_change_percentage',\n",
       "       'ath_date', 'atl', 'atl_change_percentage', 'atl_date', 'roi',\n",
       "       'last_updated'],\n",
       "      dtype='object')"
      ]
     },
     "execution_count": 21,
     "metadata": {},
     "output_type": "execute_result"
    }
   ],
   "source": [
    "base_dir = os.getenv('EXTRACTED_DIR')\n",
    "coinslist = to_dataframe(base_dir, 'coinslist', 'coinslist')\n",
    "coinslist.columns"
   ]
  },
  {
   "cell_type": "code",
   "execution_count": 22,
   "metadata": {},
   "outputs": [
    {
     "data": {
      "text/html": [
       "<div>\n",
       "<style scoped>\n",
       "    .dataframe tbody tr th:only-of-type {\n",
       "        vertical-align: middle;\n",
       "    }\n",
       "\n",
       "    .dataframe tbody tr th {\n",
       "        vertical-align: top;\n",
       "    }\n",
       "\n",
       "    .dataframe thead th {\n",
       "        text-align: right;\n",
       "    }\n",
       "</style>\n",
       "<table border=\"1\" class=\"dataframe\">\n",
       "  <thead>\n",
       "    <tr style=\"text-align: right;\">\n",
       "      <th></th>\n",
       "      <th>id</th>\n",
       "      <th>symbol</th>\n",
       "      <th>name</th>\n",
       "    </tr>\n",
       "  </thead>\n",
       "  <tbody>\n",
       "    <tr>\n",
       "      <th>0</th>\n",
       "      <td>bitcoin</td>\n",
       "      <td>btc</td>\n",
       "      <td>Bitcoin</td>\n",
       "    </tr>\n",
       "    <tr>\n",
       "      <th>1</th>\n",
       "      <td>ethereum</td>\n",
       "      <td>eth</td>\n",
       "      <td>Ethereum</td>\n",
       "    </tr>\n",
       "    <tr>\n",
       "      <th>2</th>\n",
       "      <td>tether</td>\n",
       "      <td>usdt</td>\n",
       "      <td>Tether</td>\n",
       "    </tr>\n",
       "    <tr>\n",
       "      <th>3</th>\n",
       "      <td>ripple</td>\n",
       "      <td>xrp</td>\n",
       "      <td>XRP</td>\n",
       "    </tr>\n",
       "    <tr>\n",
       "      <th>4</th>\n",
       "      <td>binancecoin</td>\n",
       "      <td>bnb</td>\n",
       "      <td>BNB</td>\n",
       "    </tr>\n",
       "    <tr>\n",
       "      <th>...</th>\n",
       "      <td>...</td>\n",
       "      <td>...</td>\n",
       "      <td>...</td>\n",
       "    </tr>\n",
       "    <tr>\n",
       "      <th>195</th>\n",
       "      <td>kusama</td>\n",
       "      <td>ksm</td>\n",
       "      <td>Kusama</td>\n",
       "    </tr>\n",
       "    <tr>\n",
       "      <th>196</th>\n",
       "      <td>trust-wallet-token</td>\n",
       "      <td>twt</td>\n",
       "      <td>Trust Wallet</td>\n",
       "    </tr>\n",
       "    <tr>\n",
       "      <th>197</th>\n",
       "      <td>blur</td>\n",
       "      <td>blur</td>\n",
       "      <td>Blur</td>\n",
       "    </tr>\n",
       "    <tr>\n",
       "      <th>198</th>\n",
       "      <td>frax-ether</td>\n",
       "      <td>frxeth</td>\n",
       "      <td>Frax Ether</td>\n",
       "    </tr>\n",
       "    <tr>\n",
       "      <th>199</th>\n",
       "      <td>theta-fuel</td>\n",
       "      <td>tfuel</td>\n",
       "      <td>Theta Fuel</td>\n",
       "    </tr>\n",
       "  </tbody>\n",
       "</table>\n",
       "<p>200 rows × 3 columns</p>\n",
       "</div>"
      ],
      "text/plain": [
       "                     id  symbol          name\n",
       "0               bitcoin     btc       Bitcoin\n",
       "1              ethereum     eth      Ethereum\n",
       "2                tether    usdt        Tether\n",
       "3                ripple     xrp           XRP\n",
       "4           binancecoin     bnb           BNB\n",
       "..                  ...     ...           ...\n",
       "195              kusama     ksm        Kusama\n",
       "196  trust-wallet-token     twt  Trust Wallet\n",
       "197                blur    blur          Blur\n",
       "198          frax-ether  frxeth    Frax Ether\n",
       "199          theta-fuel   tfuel    Theta Fuel\n",
       "\n",
       "[200 rows x 3 columns]"
      ]
     },
     "execution_count": 22,
     "metadata": {},
     "output_type": "execute_result"
    }
   ],
   "source": [
    "coinslist[['id','symbol', 'name']]"
   ]
  },
  {
   "cell_type": "code",
   "execution_count": null,
   "metadata": {},
   "outputs": [],
   "source": [
    "def transform_coinlists(df):\n",
    "    \n",
    "    coins = df[['id','symbol', 'name']]\n",
    "    "
   ]
  }
 ],
 "metadata": {
  "language_info": {
   "name": "python"
  }
 },
 "nbformat": 4,
 "nbformat_minor": 2
}
