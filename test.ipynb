{
 "cells": [
  {
   "cell_type": "code",
   "execution_count": 1,
   "metadata": {},
   "outputs": [
    {
     "data": {
      "text/plain": [
       "True"
      ]
     },
     "execution_count": 1,
     "metadata": {},
     "output_type": "execute_result"
    }
   ],
   "source": [
    "import os\n",
    "import pandas as pd\n",
    "from dotenv import load_dotenv\n",
    "from datetime import datetime, timedelta\n",
    "load_dotenv('.env')"
   ]
  },
  {
   "cell_type": "code",
   "execution_count": 2,
   "metadata": {},
   "outputs": [
    {
     "data": {
      "text/plain": [
       "'2024-12-13'"
      ]
     },
     "execution_count": 2,
     "metadata": {},
     "output_type": "execute_result"
    }
   ],
   "source": [
    "date = datetime.today() - timedelta(weeks=4)\n",
    "date = date.strftime('%Y-%m-%d')\n",
    "date"
   ]
  },
  {
   "cell_type": "code",
   "execution_count": 3,
   "metadata": {},
   "outputs": [
    {
     "name": "stdout",
     "output_type": "stream",
     "text": [
      "https://newsapi.org/v2/everything?q=[coin_symbol]&apiKey=67a8021b9bf944228789c68ea30931cd&from=2024-12-13&sortBy=popularity\n"
     ]
    }
   ],
   "source": [
    "from src.extract import extract_news\n",
    "\n",
    "news_url = os.getenv('NEWSAPI_EP')\n",
    "news_apikey = os.getenv('APIKEY_NEWSAPI')\n",
    "news_url = news_url.replace('[apiKey]', news_apikey)\n",
    "news_url = news_url.replace('[date]', date)\n",
    "\n",
    "print(news_url)"
   ]
  },
  {
   "cell_type": "code",
   "execution_count": 4,
   "metadata": {},
   "outputs": [
    {
     "name": "stdout",
     "output_type": "stream",
     "text": [
      "Successfully saved to data/extracted_data/news/bitcoin.json.\n",
      "\n"
     ]
    }
   ],
   "source": [
    "tgt_dir = os.getenv('EXTRACTED_DIR')\n",
    "extract_news(news_url,'bitcoin',tgt_dir, 'news')"
   ]
  },
  {
   "cell_type": "code",
   "execution_count": 31,
   "metadata": {},
   "outputs": [
    {
     "data": {
      "text/plain": [
       "0         zoc\n",
       "1         zcn\n",
       "2        0dog\n",
       "3         0kn\n",
       "4         ome\n",
       "         ... \n",
       "16555     zyn\n",
       "16556     zyn\n",
       "16557     zyr\n",
       "16558     zzz\n",
       "16559       ᚠ\n",
       "Name: symbol, Length: 16560, dtype: object"
      ]
     },
     "execution_count": 31,
     "metadata": {},
     "output_type": "execute_result"
    }
   ],
   "source": [
    "coinlists = pd.read_json('./data/extracted_data/coinslist/coinslist.json')\n",
    "coin_symbols = coinlists['symbol']\n",
    "coin_symbols"
   ]
  }
 ],
 "metadata": {
  "kernelspec": {
   "display_name": "venv",
   "language": "python",
   "name": "python3"
  },
  "language_info": {
   "codemirror_mode": {
    "name": "ipython",
    "version": 3
   },
   "file_extension": ".py",
   "mimetype": "text/x-python",
   "name": "python",
   "nbconvert_exporter": "python",
   "pygments_lexer": "ipython3",
   "version": "3.12.4"
  }
 },
 "nbformat": 4,
 "nbformat_minor": 2
}
